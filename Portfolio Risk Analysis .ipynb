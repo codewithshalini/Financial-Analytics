{
 "cells": [
  {
   "cell_type": "markdown",
   "id": "b4837902",
   "metadata": {},
   "source": [
    "### Portfolio Risk Analysis"
   ]
  },
  {
   "cell_type": "markdown",
   "id": "476ddc15",
   "metadata": {},
   "source": [
    "#### Problem Statement\n",
    "\n",
    "A financial analyst wants to assess the risk of a stock portfolio containing three stocks: Apple (AAPL), Microsoft (MSFT), and Google (GOOGL). The goal is to calculate the Value at Risk (VaR), which tells the maximum loss at a given confidence level."
   ]
  },
  {
   "cell_type": "code",
   "execution_count": 1,
   "id": "40881eb8",
   "metadata": {},
   "outputs": [
    {
     "name": "stdout",
     "output_type": "stream",
     "text": [
      "Requirement already satisfied: yfinance in c:\\users\\shalini\\anaconda3\\lib\\site-packages (0.2.50)\n",
      "Requirement already satisfied: pandas>=1.3.0 in c:\\users\\shalini\\anaconda3\\lib\\site-packages (from yfinance) (2.0.3)\n",
      "Requirement already satisfied: numpy>=1.16.5 in c:\\users\\shalini\\anaconda3\\lib\\site-packages (from yfinance) (1.24.3)\n",
      "Requirement already satisfied: requests>=2.31 in c:\\users\\shalini\\anaconda3\\lib\\site-packages (from yfinance) (2.31.0)\n",
      "Requirement already satisfied: multitasking>=0.0.7 in c:\\users\\shalini\\anaconda3\\lib\\site-packages (from yfinance) (0.0.11)\n",
      "Requirement already satisfied: lxml>=4.9.1 in c:\\users\\shalini\\anaconda3\\lib\\site-packages (from yfinance) (4.9.3)\n",
      "Requirement already satisfied: platformdirs>=2.0.0 in c:\\users\\shalini\\anaconda3\\lib\\site-packages (from yfinance) (3.10.0)\n",
      "Requirement already satisfied: pytz>=2022.5 in c:\\users\\shalini\\anaconda3\\lib\\site-packages (from yfinance) (2023.3.post1)\n",
      "Requirement already satisfied: frozendict>=2.3.4 in c:\\users\\shalini\\anaconda3\\lib\\site-packages (from yfinance) (2.4.6)\n",
      "Requirement already satisfied: peewee>=3.16.2 in c:\\users\\shalini\\anaconda3\\lib\\site-packages (from yfinance) (3.17.8)\n",
      "Requirement already satisfied: beautifulsoup4>=4.11.1 in c:\\users\\shalini\\anaconda3\\lib\\site-packages (from yfinance) (4.12.2)\n",
      "Requirement already satisfied: html5lib>=1.1 in c:\\users\\shalini\\anaconda3\\lib\\site-packages (from yfinance) (1.1)\n",
      "Requirement already satisfied: soupsieve>1.2 in c:\\users\\shalini\\anaconda3\\lib\\site-packages (from beautifulsoup4>=4.11.1->yfinance) (2.4)\n",
      "Requirement already satisfied: six>=1.9 in c:\\users\\shalini\\anaconda3\\lib\\site-packages (from html5lib>=1.1->yfinance) (1.16.0)\n",
      "Requirement already satisfied: webencodings in c:\\users\\shalini\\anaconda3\\lib\\site-packages (from html5lib>=1.1->yfinance) (0.5.1)\n",
      "Requirement already satisfied: python-dateutil>=2.8.2 in c:\\users\\shalini\\anaconda3\\lib\\site-packages (from pandas>=1.3.0->yfinance) (2.8.2)\n",
      "Requirement already satisfied: tzdata>=2022.1 in c:\\users\\shalini\\anaconda3\\lib\\site-packages (from pandas>=1.3.0->yfinance) (2023.3)\n",
      "Requirement already satisfied: charset-normalizer<4,>=2 in c:\\users\\shalini\\anaconda3\\lib\\site-packages (from requests>=2.31->yfinance) (2.0.4)\n",
      "Requirement already satisfied: idna<4,>=2.5 in c:\\users\\shalini\\anaconda3\\lib\\site-packages (from requests>=2.31->yfinance) (3.4)\n",
      "Requirement already satisfied: urllib3<3,>=1.21.1 in c:\\users\\shalini\\anaconda3\\lib\\site-packages (from requests>=2.31->yfinance) (1.26.16)\n",
      "Requirement already satisfied: certifi>=2017.4.17 in c:\\users\\shalini\\anaconda3\\lib\\site-packages (from requests>=2.31->yfinance) (2023.7.22)\n",
      "Note: you may need to restart the kernel to use updated packages.\n"
     ]
    }
   ],
   "source": [
    "pip install yfinance"
   ]
  },
  {
   "cell_type": "code",
   "execution_count": 2,
   "id": "17b03a42",
   "metadata": {},
   "outputs": [],
   "source": [
    "import numpy as np\n",
    "import pandas as pd\n",
    "import yfinance as yf  # Library to fetch stock data\n",
    "import matplotlib.pyplot as plt"
   ]
  },
  {
   "cell_type": "markdown",
   "id": "dfac9cc5",
   "metadata": {},
   "source": [
    "##### List of stocks in the portfolio"
   ]
  },
  {
   "cell_type": "code",
   "execution_count": 3,
   "id": "5c85ec03",
   "metadata": {},
   "outputs": [],
   "source": [
    "stocks = ['AAPL', 'MSFT', 'GOOGL']"
   ]
  },
  {
   "cell_type": "markdown",
   "id": "678633fb",
   "metadata": {},
   "source": [
    "##### Download stock data for the last year\n",
    "- We used yfinance to fetch stock prices.\n",
    "- The Adjusted Close price is used as it accounts for stock splits and dividends."
   ]
  },
  {
   "cell_type": "code",
   "execution_count": 4,
   "id": "afb33491",
   "metadata": {},
   "outputs": [
    {
     "name": "stderr",
     "output_type": "stream",
     "text": [
      "[*********************100%***********************]  3 of 3 completed\n"
     ]
    }
   ],
   "source": [
    "data = yf.download(stocks, start='2023-12-01', end='2024-12-01')['Adj Close']"
   ]
  },
  {
   "cell_type": "code",
   "execution_count": 5,
   "id": "97ebb4aa",
   "metadata": {},
   "outputs": [
    {
     "data": {
      "text/html": [
       "<div>\n",
       "<style scoped>\n",
       "    .dataframe tbody tr th:only-of-type {\n",
       "        vertical-align: middle;\n",
       "    }\n",
       "\n",
       "    .dataframe tbody tr th {\n",
       "        vertical-align: top;\n",
       "    }\n",
       "\n",
       "    .dataframe thead th {\n",
       "        text-align: right;\n",
       "    }\n",
       "</style>\n",
       "<table border=\"1\" class=\"dataframe\">\n",
       "  <thead>\n",
       "    <tr style=\"text-align: right;\">\n",
       "      <th>Ticker</th>\n",
       "      <th>AAPL</th>\n",
       "      <th>GOOGL</th>\n",
       "      <th>MSFT</th>\n",
       "    </tr>\n",
       "    <tr>\n",
       "      <th>Date</th>\n",
       "      <th></th>\n",
       "      <th></th>\n",
       "      <th></th>\n",
       "    </tr>\n",
       "  </thead>\n",
       "  <tbody>\n",
       "    <tr>\n",
       "      <th>2023-12-01</th>\n",
       "      <td>190.307678</td>\n",
       "      <td>131.383728</td>\n",
       "      <td>372.474335</td>\n",
       "    </tr>\n",
       "    <tr>\n",
       "      <th>2023-12-04</th>\n",
       "      <td>188.506470</td>\n",
       "      <td>128.803085</td>\n",
       "      <td>367.133514</td>\n",
       "    </tr>\n",
       "    <tr>\n",
       "      <th>2023-12-05</th>\n",
       "      <td>192.477051</td>\n",
       "      <td>130.516876</td>\n",
       "      <td>370.495117</td>\n",
       "    </tr>\n",
       "    <tr>\n",
       "      <th>2023-12-06</th>\n",
       "      <td>191.382416</td>\n",
       "      <td>129.550385</td>\n",
       "      <td>366.795319</td>\n",
       "    </tr>\n",
       "    <tr>\n",
       "      <th>2023-12-07</th>\n",
       "      <td>193.322922</td>\n",
       "      <td>136.435394</td>\n",
       "      <td>368.933685</td>\n",
       "    </tr>\n",
       "    <tr>\n",
       "      <th>...</th>\n",
       "      <td>...</td>\n",
       "      <td>...</td>\n",
       "      <td>...</td>\n",
       "    </tr>\n",
       "    <tr>\n",
       "      <th>2024-11-22</th>\n",
       "      <td>229.869995</td>\n",
       "      <td>164.571381</td>\n",
       "      <td>417.000000</td>\n",
       "    </tr>\n",
       "    <tr>\n",
       "      <th>2024-11-25</th>\n",
       "      <td>232.869995</td>\n",
       "      <td>167.458069</td>\n",
       "      <td>418.790009</td>\n",
       "    </tr>\n",
       "    <tr>\n",
       "      <th>2024-11-26</th>\n",
       "      <td>235.059998</td>\n",
       "      <td>168.926392</td>\n",
       "      <td>427.989990</td>\n",
       "    </tr>\n",
       "    <tr>\n",
       "      <th>2024-11-27</th>\n",
       "      <td>234.929993</td>\n",
       "      <td>169.036270</td>\n",
       "      <td>422.989990</td>\n",
       "    </tr>\n",
       "    <tr>\n",
       "      <th>2024-11-29</th>\n",
       "      <td>237.330002</td>\n",
       "      <td>168.756592</td>\n",
       "      <td>423.459991</td>\n",
       "    </tr>\n",
       "  </tbody>\n",
       "</table>\n",
       "<p>251 rows × 3 columns</p>\n",
       "</div>"
      ],
      "text/plain": [
       "Ticker            AAPL       GOOGL        MSFT\n",
       "Date                                          \n",
       "2023-12-01  190.307678  131.383728  372.474335\n",
       "2023-12-04  188.506470  128.803085  367.133514\n",
       "2023-12-05  192.477051  130.516876  370.495117\n",
       "2023-12-06  191.382416  129.550385  366.795319\n",
       "2023-12-07  193.322922  136.435394  368.933685\n",
       "...                ...         ...         ...\n",
       "2024-11-22  229.869995  164.571381  417.000000\n",
       "2024-11-25  232.869995  167.458069  418.790009\n",
       "2024-11-26  235.059998  168.926392  427.989990\n",
       "2024-11-27  234.929993  169.036270  422.989990\n",
       "2024-11-29  237.330002  168.756592  423.459991\n",
       "\n",
       "[251 rows x 3 columns]"
      ]
     },
     "execution_count": 5,
     "metadata": {},
     "output_type": "execute_result"
    }
   ],
   "source": [
    "data"
   ]
  },
  {
   "cell_type": "code",
   "execution_count": 6,
   "id": "1bd48dc2",
   "metadata": {},
   "outputs": [
    {
     "data": {
      "text/html": [
       "<div>\n",
       "<style scoped>\n",
       "    .dataframe tbody tr th:only-of-type {\n",
       "        vertical-align: middle;\n",
       "    }\n",
       "\n",
       "    .dataframe tbody tr th {\n",
       "        vertical-align: top;\n",
       "    }\n",
       "\n",
       "    .dataframe thead th {\n",
       "        text-align: right;\n",
       "    }\n",
       "</style>\n",
       "<table border=\"1\" class=\"dataframe\">\n",
       "  <thead>\n",
       "    <tr style=\"text-align: right;\">\n",
       "      <th>Ticker</th>\n",
       "      <th>AAPL</th>\n",
       "      <th>GOOGL</th>\n",
       "      <th>MSFT</th>\n",
       "    </tr>\n",
       "    <tr>\n",
       "      <th>Date</th>\n",
       "      <th></th>\n",
       "      <th></th>\n",
       "      <th></th>\n",
       "    </tr>\n",
       "  </thead>\n",
       "  <tbody>\n",
       "    <tr>\n",
       "      <th>2023-12-01</th>\n",
       "      <td>190.307678</td>\n",
       "      <td>131.383728</td>\n",
       "      <td>372.474335</td>\n",
       "    </tr>\n",
       "    <tr>\n",
       "      <th>2023-12-04</th>\n",
       "      <td>188.506470</td>\n",
       "      <td>128.803085</td>\n",
       "      <td>367.133514</td>\n",
       "    </tr>\n",
       "    <tr>\n",
       "      <th>2023-12-05</th>\n",
       "      <td>192.477051</td>\n",
       "      <td>130.516876</td>\n",
       "      <td>370.495117</td>\n",
       "    </tr>\n",
       "    <tr>\n",
       "      <th>2023-12-06</th>\n",
       "      <td>191.382416</td>\n",
       "      <td>129.550385</td>\n",
       "      <td>366.795319</td>\n",
       "    </tr>\n",
       "    <tr>\n",
       "      <th>2023-12-07</th>\n",
       "      <td>193.322922</td>\n",
       "      <td>136.435394</td>\n",
       "      <td>368.933685</td>\n",
       "    </tr>\n",
       "  </tbody>\n",
       "</table>\n",
       "</div>"
      ],
      "text/plain": [
       "Ticker            AAPL       GOOGL        MSFT\n",
       "Date                                          \n",
       "2023-12-01  190.307678  131.383728  372.474335\n",
       "2023-12-04  188.506470  128.803085  367.133514\n",
       "2023-12-05  192.477051  130.516876  370.495117\n",
       "2023-12-06  191.382416  129.550385  366.795319\n",
       "2023-12-07  193.322922  136.435394  368.933685"
      ]
     },
     "execution_count": 6,
     "metadata": {},
     "output_type": "execute_result"
    }
   ],
   "source": [
    "data.head()"
   ]
  },
  {
   "cell_type": "markdown",
   "id": "f1cb1765",
   "metadata": {},
   "source": [
    "##### Calculate Daily Returns\n",
    "- The daily percentage change in stock prices is calculated using the pct_change() method.\n",
    "- Calculate the percentage change for each day.\n",
    "- This is required to understand the daily movement of stock prices."
   ]
  },
  {
   "cell_type": "code",
   "execution_count": 7,
   "id": "0ddf989b",
   "metadata": {},
   "outputs": [],
   "source": [
    "returns = data.pct_change().dropna()"
   ]
  },
  {
   "cell_type": "code",
   "execution_count": 8,
   "id": "26cb6faa",
   "metadata": {},
   "outputs": [
    {
     "data": {
      "text/html": [
       "<div>\n",
       "<style scoped>\n",
       "    .dataframe tbody tr th:only-of-type {\n",
       "        vertical-align: middle;\n",
       "    }\n",
       "\n",
       "    .dataframe tbody tr th {\n",
       "        vertical-align: top;\n",
       "    }\n",
       "\n",
       "    .dataframe thead th {\n",
       "        text-align: right;\n",
       "    }\n",
       "</style>\n",
       "<table border=\"1\" class=\"dataframe\">\n",
       "  <thead>\n",
       "    <tr style=\"text-align: right;\">\n",
       "      <th>Ticker</th>\n",
       "      <th>AAPL</th>\n",
       "      <th>GOOGL</th>\n",
       "      <th>MSFT</th>\n",
       "    </tr>\n",
       "    <tr>\n",
       "      <th>Date</th>\n",
       "      <th></th>\n",
       "      <th></th>\n",
       "      <th></th>\n",
       "    </tr>\n",
       "  </thead>\n",
       "  <tbody>\n",
       "    <tr>\n",
       "      <th>2023-12-04</th>\n",
       "      <td>-0.009465</td>\n",
       "      <td>-0.019642</td>\n",
       "      <td>-0.014339</td>\n",
       "    </tr>\n",
       "    <tr>\n",
       "      <th>2023-12-05</th>\n",
       "      <td>0.021063</td>\n",
       "      <td>0.013306</td>\n",
       "      <td>0.009156</td>\n",
       "    </tr>\n",
       "    <tr>\n",
       "      <th>2023-12-06</th>\n",
       "      <td>-0.005687</td>\n",
       "      <td>-0.007405</td>\n",
       "      <td>-0.009986</td>\n",
       "    </tr>\n",
       "    <tr>\n",
       "      <th>2023-12-07</th>\n",
       "      <td>0.010139</td>\n",
       "      <td>0.053145</td>\n",
       "      <td>0.005830</td>\n",
       "    </tr>\n",
       "    <tr>\n",
       "      <th>2023-12-08</th>\n",
       "      <td>0.007412</td>\n",
       "      <td>-0.014168</td>\n",
       "      <td>0.008842</td>\n",
       "    </tr>\n",
       "  </tbody>\n",
       "</table>\n",
       "</div>"
      ],
      "text/plain": [
       "Ticker          AAPL     GOOGL      MSFT\n",
       "Date                                    \n",
       "2023-12-04 -0.009465 -0.019642 -0.014339\n",
       "2023-12-05  0.021063  0.013306  0.009156\n",
       "2023-12-06 -0.005687 -0.007405 -0.009986\n",
       "2023-12-07  0.010139  0.053145  0.005830\n",
       "2023-12-08  0.007412 -0.014168  0.008842"
      ]
     },
     "execution_count": 8,
     "metadata": {},
     "output_type": "execute_result"
    }
   ],
   "source": [
    "returns.head()"
   ]
  },
  {
   "cell_type": "markdown",
   "id": "d1d8eb7f",
   "metadata": {},
   "source": [
    "##### Calculate Portfolio Weights\n",
    "- Let's assume the following weights for the portfolio:\n",
    "\n",
    "- Apple (AAPL): 40%\n",
    "- Microsoft (MSFT): 30%\n",
    "- Google (GOOGL): 30%"
   ]
  },
  {
   "cell_type": "code",
   "execution_count": 9,
   "id": "fa73a227",
   "metadata": {},
   "outputs": [],
   "source": [
    "# Portfolio weights\n",
    "weights = np.array([0.4, 0.3, 0.3])"
   ]
  },
  {
   "cell_type": "markdown",
   "id": "abb44366",
   "metadata": {},
   "source": [
    "##### Calculate Portfolio Returns and Risk"
   ]
  },
  {
   "cell_type": "code",
   "execution_count": 10,
   "id": "547cb7c7",
   "metadata": {},
   "outputs": [
    {
     "name": "stdout",
     "output_type": "stream",
     "text": [
      "Expected Daily Return: 0.0009\n",
      "Portfolio Variance: 0.000135\n",
      "Portfolio Volatility (Risk): 0.0116\n"
     ]
    }
   ],
   "source": [
    "# Calculate the portfolio's daily returns\n",
    "portfolio_returns = returns.dot(weights)\n",
    "\n",
    "# Calculate expected portfolio return (mean daily return)\n",
    "expected_return = portfolio_returns.mean()\n",
    "\n",
    "# Calculate portfolio variance and standard deviation (risk)\n",
    "cov_matrix = returns.cov()  # Covariance matrix of asset returns\n",
    "portfolio_variance = np.dot(weights.T, np.dot(cov_matrix, weights))\n",
    "portfolio_volatility = np.sqrt(portfolio_variance)\n",
    "\n",
    "print(f\"Expected Daily Return: {expected_return:.4f}\")\n",
    "print(f\"Portfolio Variance: {portfolio_variance:.6f}\")\n",
    "print(f\"Portfolio Volatility (Risk): {portfolio_volatility:.4f}\")"
   ]
  },
  {
   "cell_type": "markdown",
   "id": "28b67c1e",
   "metadata": {},
   "source": [
    "##### Calculate Value at Risk (VaR)\n",
    "- To assess the potential loss, we calculate the 5% Value at Risk (VaR), which tells us the maximum loss over a certain time period at a given confidence level."
   ]
  },
  {
   "cell_type": "code",
   "execution_count": 11,
   "id": "d623d348",
   "metadata": {},
   "outputs": [
    {
     "name": "stdout",
     "output_type": "stream",
     "text": [
      "Value at Risk (5%): -0.0191\n"
     ]
    }
   ],
   "source": [
    "# Calculate 5% quantile (95% confidence level) of portfolio returns\n",
    "VaR_95 = np.percentile(portfolio_returns, 5)\n",
    "\n",
    "print(f\"Value at Risk (5%): {VaR_95:.4f}\")"
   ]
  },
  {
   "cell_type": "markdown",
   "id": "44c6614a",
   "metadata": {},
   "source": [
    "- The VaR is -0.019, it means we are 95% confident the maximum daily loss will not exceed 2%."
   ]
  },
  {
   "cell_type": "code",
   "execution_count": 12,
   "id": "bfd57278",
   "metadata": {},
   "outputs": [
    {
     "data": {
      "image/png": "[encoded data removed]",
      "text/plain": [
       "<Figure size 1000x600 with 1 Axes>"
      ]
     },
     "metadata": {},
     "output_type": "display_data"
    }
   ],
   "source": [
    "portfolio_returns.plot(figsize=(10, 6), color='blue', label='Portfolio Returns')\n",
    "plt.axhline(y=VaR_95, color='red', linestyle='--', label='5% VaR')\n",
    "plt.title('Portfolio Returns with 5% VaR')\n",
    "plt.xlabel('Date')\n",
    "plt.ylabel('Daily Return')\n",
    "plt.legend()\n",
    "plt.show()"
   ]
  },
  {
   "cell_type": "markdown",
   "id": "dbf51a84",
   "metadata": {},
   "source": [
    "##### Use Case\n",
    "- Portfolio Management: Portfolio managers use similar techniques to manage and optimize portfolios.\n",
    "- Risk Assessment: Banks and hedge funds measure VaR to set limits on maximum acceptable loss.\n",
    "- Investment Strategies: Investors balance risk and return by adjusting the weights of different stocks."
   ]
  },
  {
   "cell_type": "code",
   "execution_count": null,
   "id": "f76fe567",
   "metadata": {},
   "outputs": [],
   "source": []
  }
 ],
 "metadata": {
  "kernelspec": {
   "display_name": "Python 3 (ipykernel)",
   "language": "python",
   "name": "python3"
  },
  "language_info": {
   "codemirror_mode": {
    "name": "ipython",
    "version": 3
   },
   "file_extension": ".py",
   "mimetype": "text/x-python",
   "name": "python",
   "nbconvert_exporter": "python",
   "pygments_lexer": "ipython3",
   "version": "3.11.5"
  }
 },
 "nbformat": 4,
 "nbformat_minor": 5
}
